{
 "cells": [
  {
   "cell_type": "markdown",
   "metadata": {},
   "source": [
    "# Code Demo\n",
    "1. Neural Nets on iris data set\n",
    "2. Logistic Regression on Diagnostic Wisconsin Breast Cancer Database\n",
    "3. Linear Regression on Boston Housing Market data set\n",
    "\n",
    "## References\n",
    "\n",
    "Fisher,R. A.. (1988). Iris. UCI Machine Learning Repository. https://doi.org/10.24432/C56C76.\n",
    "\n",
    "Wolberg,William, Mangasarian,Olvi, Street,Nick, and Street,W.. (1995). Breast Cancer Wisconsin (Diagnostic). UCI Machine Learning Repository. https://doi.org/10.24432/C5DW2B.\n",
    "\n",
    "http://lib.stat.cmu.edu/datasets/boston\n"
   ]
  },
  {
   "cell_type": "code",
   "execution_count": 1,
   "metadata": {},
   "outputs": [],
   "source": [
    "import numpy as np\n",
    "from ucimlrepo import fetch_ucirepo # used to fetch data from UCI\n",
    "import pandas as pd # used to fetch dat from lib.stat.cmu.edu\n",
    "import pandas as pd\n",
    "from simpleml.NeuralNet import FFNeuralNet, FFLayer\n",
    "from simpleml.Regression import LogisticRegression, LinearRegression\n",
    "from simpleml import utilities"
   ]
  },
  {
   "cell_type": "markdown",
   "metadata": {},
   "source": [
    "# Part 1: Feed Forward Neural Net"
   ]
  },
  {
   "cell_type": "code",
   "execution_count": 2,
   "metadata": {},
   "outputs": [],
   "source": [
    "#Fetch and re-arrange the data nicely for neural net\n",
    "\n",
    "iris = fetch_ucirepo(id = 53)\n",
    "\n",
    "X = iris.data.features.to_numpy()\n",
    "target = iris.data.targets.to_numpy()\n",
    "\n",
    "y = np.zeros(target.shape, dtype=np.int32)\n",
    "\n",
    "y[target=='Iris-setosa']=1\n",
    "y[target=='Iris-versicolor']=2\n",
    "y[target=='Iris-virginica']=3\n",
    "\n",
    "\n",
    "i = np.arange(target.size)\n",
    "target=np.zeros((target.size, 3))\n",
    "y = np.squeeze(y)\n",
    "target[i, y-1] = 1"
   ]
  },
  {
   "cell_type": "code",
   "execution_count": 3,
   "metadata": {},
   "outputs": [],
   "source": [
    "# perform scaling and splitting using simpleml utilities\n",
    "scaler = utilities.Scaler()\n",
    "X = scaler.fit_transform(X)\n",
    "X_train, X_test, y_train, y_test = utilities.split(X, target, train_split=0.7)\n",
    "\n"
   ]
  },
  {
   "cell_type": "code",
   "execution_count": 4,
   "metadata": {},
   "outputs": [],
   "source": [
    "#application of feed forward neural net\n",
    "nn = FFNeuralNet()\n",
    "nn.add_layer(FFLayer(5,4))\n",
    "nn.add_layer(FFLayer(6,5))\n",
    "nn.add_layer(FFLayer(3,6))\n",
    "\n",
    "nn.compile()\n",
    "\n",
    "nn.fit(X_train, y_train)\n",
    "y_pred = nn.predict(X_test)\n"
   ]
  },
  {
   "cell_type": "code",
   "execution_count": 5,
   "metadata": {},
   "outputs": [
    {
     "name": "stdout",
     "output_type": "stream",
     "text": [
      "simpleml feed forward neural net accuracy on Iris dataset: 0.9555555555555556\n",
      "simpleml feed foward neural net f1 score on Iris dataset: 0.9333333333333333\n"
     ]
    }
   ],
   "source": [
    "# compute a few metrics for ffnn\n",
    "acc = utilities.accuracy(y_test, y_pred)\n",
    "f1_score = utilities.f1(y_test, y_pred, kind=\"MICRO\")\n",
    "\n",
    "print(f'simpleml feed forward neural net accuracy on Iris dataset: {acc}')\n",
    "print(f'simpleml feed foward neural net f1 score on Iris dataset: {f1_score}')\n",
    "\n"
   ]
  },
  {
   "cell_type": "markdown",
   "metadata": {},
   "source": [
    "# Part 2: Logistic Regression"
   ]
  },
  {
   "cell_type": "code",
   "execution_count": 6,
   "metadata": {},
   "outputs": [],
   "source": [
    "cancer = fetch_ucirepo(id = 17)\n",
    "\n",
    "X = cancer.data.features.to_numpy()\n",
    "target = cancer.data.targets.to_numpy()\n",
    "\n",
    "y = np.zeros(target.shape, dtype=np.int32)\n",
    "\n",
    "y[target == 'B'] = 1\n",
    "y[target == 'M'] = 0"
   ]
  },
  {
   "cell_type": "code",
   "execution_count": 7,
   "metadata": {},
   "outputs": [],
   "source": [
    "# perform scaling and splitting using simpleml utilities\n",
    "scaler = utilities.Scaler()\n",
    "X = scaler.fit_transform(X)\n",
    "X_train, X_test, y_train, y_test = utilities.split(X, y, train_split=0.7)\n"
   ]
  },
  {
   "cell_type": "code",
   "execution_count": 8,
   "metadata": {},
   "outputs": [],
   "source": [
    "#apply logistic regression\n",
    "lr = LogisticRegression()\n",
    "lr.fit(X_train, y_train)\n",
    "y_pred = lr.predict(X_test)\n",
    "\n"
   ]
  },
  {
   "cell_type": "code",
   "execution_count": 9,
   "metadata": {},
   "outputs": [
    {
     "name": "stdout",
     "output_type": "stream",
     "text": [
      "simpleml logistic regression accuracy on Wisconsin Breast Cancer dataset: 0.9766081871345029\n",
      "simpleml logistic regression f1 score on Wisconsin Breast Cancer dataset: 0.9818181818181818\n"
     ]
    }
   ],
   "source": [
    "# compute a few metrics for logistic regression\n",
    "acc = utilities.accuracy(y_test, y_pred)\n",
    "f1_score = utilities.f1(y_test, y_pred, kind=\"MICRO\")\n",
    "\n",
    "print(f'simpleml logistic regression accuracy on Wisconsin Breast Cancer dataset: {acc}')\n",
    "print(f'simpleml logistic regression f1 score on Wisconsin Breast Cancer dataset: {f1_score}')\n",
    "\n"
   ]
  },
  {
   "cell_type": "markdown",
   "metadata": {},
   "source": [
    "# Part 3: Linear Regression\n"
   ]
  },
  {
   "cell_type": "code",
   "execution_count": 10,
   "metadata": {},
   "outputs": [],
   "source": [
    "\n",
    "dump = pd.read_csv('http://lib.stat.cmu.edu/datasets/boston', skiprows=21, sep=\"\\s+\", header=None).values\n",
    "cleaned = np.hstack((dump[0::2, :], dump[1::2, :3]))\n",
    "\n",
    "X = cleaned[:, :-1]\n",
    "target = cleaned[:, -1:]"
   ]
  },
  {
   "cell_type": "code",
   "execution_count": 11,
   "metadata": {},
   "outputs": [],
   "source": [
    "# perform scaling and splitting using simpleml utilities\n",
    "scaler = utilities.Scaler()\n",
    "X = scaler.fit_transform(X)\n",
    "X_train, X_test, y_train, y_test = utilities.split(X, target, train_split=0.7)"
   ]
  },
  {
   "cell_type": "code",
   "execution_count": 12,
   "metadata": {},
   "outputs": [],
   "source": [
    "#apply linear regression\n",
    "lr = LinearRegression()\n",
    "lr.fit(X_train, y_train, epochs=100, alpha=0.1)\n",
    "y_pred = lr.predict(X_test)\n",
    "\n"
   ]
  },
  {
   "cell_type": "code",
   "execution_count": 13,
   "metadata": {},
   "outputs": [
    {
     "name": "stdout",
     "output_type": "stream",
     "text": [
      "simpleml linear regression r2 on Wine Quality dataset: 0.7437068718086814\n",
      "simpleml linear regression mean squared error on Wine Quality dataset: 21.803046064164324\n"
     ]
    }
   ],
   "source": [
    "mse = utilities.mean_squared_error(y_test, y_pred)\n",
    "r2 = utilities.r2(y_test, y_pred)\n",
    "\n",
    "print(f'simpleml linear regression r2 on Wine Quality dataset: {r2}')\n",
    "print(f'simpleml linear regression mean squared error on Wine Quality dataset: {mse}')\n",
    "\n",
    "\n"
   ]
  }
 ],
 "metadata": {
  "kernelspec": {
   "display_name": "venv",
   "language": "python",
   "name": "python3"
  },
  "language_info": {
   "codemirror_mode": {
    "name": "ipython",
    "version": 3
   },
   "file_extension": ".py",
   "mimetype": "text/x-python",
   "name": "python",
   "nbconvert_exporter": "python",
   "pygments_lexer": "ipython3",
   "version": "3.11.4"
  }
 },
 "nbformat": 4,
 "nbformat_minor": 2
}
